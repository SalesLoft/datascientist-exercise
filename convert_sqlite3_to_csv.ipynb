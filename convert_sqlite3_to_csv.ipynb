{
 "metadata": {
  "language_info": {
   "codemirror_mode": {
    "name": "ipython",
    "version": 3
   },
   "file_extension": ".py",
   "mimetype": "text/x-python",
   "name": "python",
   "nbconvert_exporter": "python",
   "pygments_lexer": "ipython3",
   "version": "3.8.5-final"
  },
  "orig_nbformat": 2,
  "kernelspec": {
   "name": "python3",
   "display_name": "Python 3.8.5 64-bit ('anaconda3': virtualenv)",
   "metadata": {
    "interpreter": {
     "hash": "d8fe4d028d55f16a7e0e5b4d19ca438c63facb43947f6257ae8ba210c31dd2f7"
    }
   }
  }
 },
 "nbformat": 4,
 "nbformat_minor": 2,
 "cells": [
  {
   "cell_type": "code",
   "execution_count": 1,
   "metadata": {},
   "outputs": [],
   "source": [
    "import csv"
   ]
  },
  {
   "cell_type": "code",
   "execution_count": 2,
   "metadata": {},
   "outputs": [],
   "source": [
    "import sqlite3"
   ]
  },
  {
   "cell_type": "code",
   "execution_count": 6,
   "metadata": {},
   "outputs": [],
   "source": [
    "import sqlite3\n",
    "import pandas.io.sql as sql\n",
    "con = sqlite3.connect('touches.sqlite3')\n",
    "touches = sql.read_sql('select * from touches', con)\n",
    "companies = sql.read_sql('select * from companies', con)\n",
    "opportunities = sql.read_sql('select * from opportunities', con)\n",
    "persons = sql.read_sql('select * from persons', con)"
   ]
  },
  {
   "cell_type": "code",
   "execution_count": 7,
   "metadata": {},
   "outputs": [],
   "source": [
    "touches.to_csv(\"./data/touches.csv\")"
   ]
  },
  {
   "cell_type": "code",
   "execution_count": 8,
   "metadata": {},
   "outputs": [],
   "source": [
    "companies.to_csv(\"./data/companies.csv\")"
   ]
  },
  {
   "cell_type": "code",
   "execution_count": 9,
   "metadata": {},
   "outputs": [],
   "source": [
    "opportunities.to_csv(\"./data/opportunities.csv\")"
   ]
  },
  {
   "cell_type": "code",
   "execution_count": 10,
   "metadata": {},
   "outputs": [],
   "source": [
    "persons.to_csv(\"./data/persons.csv\")"
   ]
  },
  {
   "cell_type": "code",
   "execution_count": 11,
   "metadata": {},
   "outputs": [
    {
     "output_type": "execute_result",
     "data": {
      "text/plain": [
       "            id  company_id           job_seniority\n",
       "0           61           1          Vice President\n",
       "1           62           1                 Manager\n",
       "2           63           1               Executive\n",
       "3           64           1                Director\n",
       "4           65           1  Individual Contributor\n",
       "...        ...         ...                     ...\n",
       "177603  235423        8327                Director\n",
       "177604  235424        8327                Director\n",
       "177605  235425        8327                 Manager\n",
       "177606  235426        8327                 Unknown\n",
       "177607  235427        8327  Individual Contributor\n",
       "\n",
       "[177608 rows x 3 columns]"
      ],
      "text/html": "<div>\n<style scoped>\n    .dataframe tbody tr th:only-of-type {\n        vertical-align: middle;\n    }\n\n    .dataframe tbody tr th {\n        vertical-align: top;\n    }\n\n    .dataframe thead th {\n        text-align: right;\n    }\n</style>\n<table border=\"1\" class=\"dataframe\">\n  <thead>\n    <tr style=\"text-align: right;\">\n      <th></th>\n      <th>id</th>\n      <th>company_id</th>\n      <th>job_seniority</th>\n    </tr>\n  </thead>\n  <tbody>\n    <tr>\n      <th>0</th>\n      <td>61</td>\n      <td>1</td>\n      <td>Vice President</td>\n    </tr>\n    <tr>\n      <th>1</th>\n      <td>62</td>\n      <td>1</td>\n      <td>Manager</td>\n    </tr>\n    <tr>\n      <th>2</th>\n      <td>63</td>\n      <td>1</td>\n      <td>Executive</td>\n    </tr>\n    <tr>\n      <th>3</th>\n      <td>64</td>\n      <td>1</td>\n      <td>Director</td>\n    </tr>\n    <tr>\n      <th>4</th>\n      <td>65</td>\n      <td>1</td>\n      <td>Individual Contributor</td>\n    </tr>\n    <tr>\n      <th>...</th>\n      <td>...</td>\n      <td>...</td>\n      <td>...</td>\n    </tr>\n    <tr>\n      <th>177603</th>\n      <td>235423</td>\n      <td>8327</td>\n      <td>Director</td>\n    </tr>\n    <tr>\n      <th>177604</th>\n      <td>235424</td>\n      <td>8327</td>\n      <td>Director</td>\n    </tr>\n    <tr>\n      <th>177605</th>\n      <td>235425</td>\n      <td>8327</td>\n      <td>Manager</td>\n    </tr>\n    <tr>\n      <th>177606</th>\n      <td>235426</td>\n      <td>8327</td>\n      <td>Unknown</td>\n    </tr>\n    <tr>\n      <th>177607</th>\n      <td>235427</td>\n      <td>8327</td>\n      <td>Individual Contributor</td>\n    </tr>\n  </tbody>\n</table>\n<p>177608 rows × 3 columns</p>\n</div>"
     },
     "metadata": {},
     "execution_count": 11
    }
   ],
   "source": [
    "persons"
   ]
  },
  {
   "cell_type": "code",
   "execution_count": null,
   "metadata": {},
   "outputs": [],
   "source": []
  }
 ]
}